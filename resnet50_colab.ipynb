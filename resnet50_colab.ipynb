{
  "nbformat": 4,
  "nbformat_minor": 0,
  "metadata": {
    "colab": {
      "provenance": [],
      "gpuType": "T4"
    },
    "kernelspec": {
      "name": "python3",
      "display_name": "Python 3"
    },
    "language_info": {
      "name": "python"
    },
    "accelerator": "GPU"
  },
  "cells": [
    {
      "cell_type": "markdown",
      "source": [
        "# 基于Caltech数据集的图像分类\n"
      ],
      "metadata": {
        "id": "XscF2_pQfi8k"
      }
    },
    {
      "cell_type": "markdown",
      "source": [
        "## 配置环境"
      ],
      "metadata": {
        "id": "9b4HEyR-e7c6"
      }
    },
    {
      "cell_type": "markdown",
      "source": [
        "### 上传数据"
      ],
      "metadata": {
        "id": "Rzu0UXAadm_W"
      }
    },
    {
      "cell_type": "code",
      "source": [
        "# !pwd"
      ],
      "metadata": {
        "colab": {
          "base_uri": "https://localhost:8080/"
        },
        "id": "kOrJRj_Ddmvx",
        "outputId": "92206af0-c1a6-462d-8f4d-b91a145237ec"
      },
      "execution_count": null,
      "outputs": [
        {
          "output_type": "stream",
          "name": "stdout",
          "text": [
            "/content\n"
          ]
        }
      ]
    },
    {
      "cell_type": "code",
      "source": [
        "# !mkdir data"
      ],
      "metadata": {
        "id": "AO3NSlqFeeGL"
      },
      "execution_count": null,
      "outputs": []
    },
    {
      "cell_type": "code",
      "source": [
        "# !mkdir data/process"
      ],
      "metadata": {
        "id": "JXYEUp6BgNPn"
      },
      "execution_count": 11,
      "outputs": []
    },
    {
      "cell_type": "code",
      "execution_count": null,
      "metadata": {
        "id": "wMfivRzpdCDt"
      },
      "outputs": [],
      "source": [
        "# !cp ./drive/MyDrive/dataset.zip ./data/"
      ]
    },
    {
      "cell_type": "code",
      "source": [
        "# !unzip /content/data/dataset.zip"
      ],
      "metadata": {
        "id": "rYgfwCDlecnE"
      },
      "execution_count": null,
      "outputs": []
    },
    {
      "cell_type": "code",
      "source": [
        "# !mv dataset ./data/"
      ],
      "metadata": {
        "id": "w_H0PlPhgghN"
      },
      "execution_count": 13,
      "outputs": []
    },
    {
      "cell_type": "code",
      "source": [
        "# !unzip demo1.zip"
      ],
      "metadata": {
        "colab": {
          "base_uri": "https://localhost:8080/"
        },
        "id": "8EFWpB6WeoO-",
        "outputId": "0eb59563-6677-4134-8e73-b91b5fbac6a4"
      },
      "execution_count": null,
      "outputs": [
        {
          "output_type": "stream",
          "name": "stdout",
          "text": [
            "Archive:  demo1.zip\n",
            "   creating: utils/\n",
            "  inflating: utils/datasets.py       \n",
            "  inflating: utils/data_prepare.py   \n",
            "   creating: utils/__pycache__/\n",
            "  inflating: utils/__pycache__/datasets.cpython-39.pyc  \n",
            "  inflating: utils/__pycache__/data_prepare.cpython-39.pyc  \n",
            "  inflating: label_distribution.png  \n"
          ]
        }
      ]
    },
    {
      "cell_type": "code",
      "source": [
        "# !rm -rf demo1.zip"
      ],
      "metadata": {
        "id": "lbXNK-IxevSH"
      },
      "execution_count": null,
      "outputs": []
    },
    {
      "cell_type": "code",
      "source": [
        "# !rm -rf /content/data/dataset.zip"
      ],
      "metadata": {
        "id": "qaBQ9I-DgpN8"
      },
      "execution_count": 14,
      "outputs": []
    },
    {
      "cell_type": "markdown",
      "source": [
        "### 安装包"
      ],
      "metadata": {
        "id": "OWlsBE3cfxWv"
      }
    },
    {
      "cell_type": "code",
      "source": [
        "!pip install torchinfo"
      ],
      "metadata": {
        "id": "o09VQrPMe2vo",
        "colab": {
          "base_uri": "https://localhost:8080/"
        },
        "outputId": "8d72e283-7763-4c14-c33d-ef94f31fc20c"
      },
      "execution_count": 8,
      "outputs": [
        {
          "output_type": "stream",
          "name": "stdout",
          "text": [
            "Collecting torchinfo\n",
            "  Downloading torchinfo-1.8.0-py3-none-any.whl (23 kB)\n",
            "Installing collected packages: torchinfo\n",
            "Successfully installed torchinfo-1.8.0\n"
          ]
        }
      ]
    },
    {
      "cell_type": "markdown",
      "source": [
        "## 数据处理"
      ],
      "metadata": {
        "id": "-8nbr2FIf53A"
      }
    },
    {
      "cell_type": "code",
      "source": [
        "from utils.data_prepare import get_data_list\n",
        "get_data_list()"
      ],
      "metadata": {
        "id": "hFFJ2KQpf107"
      },
      "execution_count": 15,
      "outputs": []
    },
    {
      "cell_type": "markdown",
      "source": [
        "## Resnet50"
      ],
      "metadata": {
        "id": "5_hEDnTlg2dZ"
      }
    },
    {
      "cell_type": "markdown",
      "source": [
        "### data"
      ],
      "metadata": {
        "id": "BM2vpYvthIWh"
      }
    },
    {
      "cell_type": "code",
      "source": [
        "from utils.data_prepare import load_class_list\n",
        "class_list = load_class_list()\n",
        "len(class_list)"
      ],
      "metadata": {
        "colab": {
          "base_uri": "https://localhost:8080/"
        },
        "id": "Dh6wKG__gJN9",
        "outputId": "3ba5322a-3d14-4d32-c2e5-e8449d24e959"
      },
      "execution_count": 31,
      "outputs": [
        {
          "output_type": "execute_result",
          "data": {
            "text/plain": [
              "102"
            ]
          },
          "metadata": {},
          "execution_count": 31
        }
      ]
    },
    {
      "cell_type": "code",
      "source": [
        "from utils.datasets import get_dataloader\n",
        "train_loader, val_loader = get_dataloader(64)\n",
        "\n",
        "for i_batch, sample_batched in enumerate(train_loader):\n",
        "    print(\"batch: \", i_batch)\n",
        "    print(\"img.shape: \", sample_batched[0].shape)\n",
        "    print(\"label.shape: \", sample_batched[1].shape)\n",
        "    break"
      ],
      "metadata": {
        "colab": {
          "base_uri": "https://localhost:8080/"
        },
        "id": "afl9XBVkg9kO",
        "outputId": "dccf9a71-adc6-41aa-85e2-83bfc7a3f66f"
      },
      "execution_count": 32,
      "outputs": [
        {
          "output_type": "stream",
          "name": "stdout",
          "text": [
            "batch:  0\n",
            "img.shape:  torch.Size([64, 3, 224, 224])\n",
            "label.shape:  torch.Size([64])\n"
          ]
        }
      ]
    },
    {
      "cell_type": "markdown",
      "source": [
        "### model"
      ],
      "metadata": {
        "id": "94boH0bDhKyX"
      }
    },
    {
      "cell_type": "code",
      "source": [
        "import torchvision.models as models\n",
        "\n",
        "resnet50 = models.resnet50(weights=models.ResNet50_Weights.DEFAULT)"
      ],
      "metadata": {
        "id": "kIE37BeshAs2"
      },
      "execution_count": 33,
      "outputs": []
    },
    {
      "cell_type": "code",
      "source": [
        "import torch.nn as nn\n",
        "resnet50.fc = nn.Linear(2048,102)\n",
        "nn.init.xavier_normal_(resnet50.fc.weight)"
      ],
      "metadata": {
        "colab": {
          "base_uri": "https://localhost:8080/"
        },
        "id": "duiK-1NFhN68",
        "outputId": "125435a0-a0f6-4f58-b062-ed2f0ffe3c1c"
      },
      "execution_count": 34,
      "outputs": [
        {
          "output_type": "execute_result",
          "data": {
            "text/plain": [
              "Parameter containing:\n",
              "tensor([[-0.0476,  0.0005, -0.0188,  ..., -0.0137, -0.0067, -0.0129],\n",
              "        [-0.0037, -0.0049,  0.0122,  ...,  0.0172,  0.0311,  0.0394],\n",
              "        [-0.0092,  0.0082,  0.0447,  ..., -0.0186, -0.0694,  0.0316],\n",
              "        ...,\n",
              "        [-0.0224, -0.0174, -0.0210,  ...,  0.0006,  0.0104, -0.0331],\n",
              "        [-0.0652,  0.0068,  0.0088,  ...,  0.0455, -0.0460, -0.0453],\n",
              "        [ 0.0372,  0.0093, -0.0437,  ...,  0.0167,  0.0953,  0.0121]],\n",
              "       requires_grad=True)"
            ]
          },
          "metadata": {},
          "execution_count": 34
        }
      ]
    },
    {
      "cell_type": "code",
      "source": [
        "for param in resnet50.parameters():\n",
        "    param.requires_grad = False\n",
        "\n",
        "for param in resnet50.fc.parameters():\n",
        "    param.requires_grad = True"
      ],
      "metadata": {
        "id": "gIv4OuFThPxI"
      },
      "execution_count": 35,
      "outputs": []
    },
    {
      "cell_type": "code",
      "source": [
        "from torchinfo import summary\n",
        "summary(resnet50, input_size=(1, 3, 224, 224))"
      ],
      "metadata": {
        "colab": {
          "base_uri": "https://localhost:8080/"
        },
        "id": "wKQ3D2mHhR04",
        "outputId": "23171c2b-d2ff-47c9-8824-2ffd152e0d86"
      },
      "execution_count": 36,
      "outputs": [
        {
          "output_type": "execute_result",
          "data": {
            "text/plain": [
              "==========================================================================================\n",
              "Layer (type:depth-idx)                   Output Shape              Param #\n",
              "==========================================================================================\n",
              "ResNet                                   [1, 102]                  --\n",
              "├─Conv2d: 1-1                            [1, 64, 112, 112]         (9,408)\n",
              "├─BatchNorm2d: 1-2                       [1, 64, 112, 112]         (128)\n",
              "├─ReLU: 1-3                              [1, 64, 112, 112]         --\n",
              "├─MaxPool2d: 1-4                         [1, 64, 56, 56]           --\n",
              "├─Sequential: 1-5                        [1, 256, 56, 56]          --\n",
              "│    └─Bottleneck: 2-1                   [1, 256, 56, 56]          --\n",
              "│    │    └─Conv2d: 3-1                  [1, 64, 56, 56]           (4,096)\n",
              "│    │    └─BatchNorm2d: 3-2             [1, 64, 56, 56]           (128)\n",
              "│    │    └─ReLU: 3-3                    [1, 64, 56, 56]           --\n",
              "│    │    └─Conv2d: 3-4                  [1, 64, 56, 56]           (36,864)\n",
              "│    │    └─BatchNorm2d: 3-5             [1, 64, 56, 56]           (128)\n",
              "│    │    └─ReLU: 3-6                    [1, 64, 56, 56]           --\n",
              "│    │    └─Conv2d: 3-7                  [1, 256, 56, 56]          (16,384)\n",
              "│    │    └─BatchNorm2d: 3-8             [1, 256, 56, 56]          (512)\n",
              "│    │    └─Sequential: 3-9              [1, 256, 56, 56]          (16,896)\n",
              "│    │    └─ReLU: 3-10                   [1, 256, 56, 56]          --\n",
              "│    └─Bottleneck: 2-2                   [1, 256, 56, 56]          --\n",
              "│    │    └─Conv2d: 3-11                 [1, 64, 56, 56]           (16,384)\n",
              "│    │    └─BatchNorm2d: 3-12            [1, 64, 56, 56]           (128)\n",
              "│    │    └─ReLU: 3-13                   [1, 64, 56, 56]           --\n",
              "│    │    └─Conv2d: 3-14                 [1, 64, 56, 56]           (36,864)\n",
              "│    │    └─BatchNorm2d: 3-15            [1, 64, 56, 56]           (128)\n",
              "│    │    └─ReLU: 3-16                   [1, 64, 56, 56]           --\n",
              "│    │    └─Conv2d: 3-17                 [1, 256, 56, 56]          (16,384)\n",
              "│    │    └─BatchNorm2d: 3-18            [1, 256, 56, 56]          (512)\n",
              "│    │    └─ReLU: 3-19                   [1, 256, 56, 56]          --\n",
              "│    └─Bottleneck: 2-3                   [1, 256, 56, 56]          --\n",
              "│    │    └─Conv2d: 3-20                 [1, 64, 56, 56]           (16,384)\n",
              "│    │    └─BatchNorm2d: 3-21            [1, 64, 56, 56]           (128)\n",
              "│    │    └─ReLU: 3-22                   [1, 64, 56, 56]           --\n",
              "│    │    └─Conv2d: 3-23                 [1, 64, 56, 56]           (36,864)\n",
              "│    │    └─BatchNorm2d: 3-24            [1, 64, 56, 56]           (128)\n",
              "│    │    └─ReLU: 3-25                   [1, 64, 56, 56]           --\n",
              "│    │    └─Conv2d: 3-26                 [1, 256, 56, 56]          (16,384)\n",
              "│    │    └─BatchNorm2d: 3-27            [1, 256, 56, 56]          (512)\n",
              "│    │    └─ReLU: 3-28                   [1, 256, 56, 56]          --\n",
              "├─Sequential: 1-6                        [1, 512, 28, 28]          --\n",
              "│    └─Bottleneck: 2-4                   [1, 512, 28, 28]          --\n",
              "│    │    └─Conv2d: 3-29                 [1, 128, 56, 56]          (32,768)\n",
              "│    │    └─BatchNorm2d: 3-30            [1, 128, 56, 56]          (256)\n",
              "│    │    └─ReLU: 3-31                   [1, 128, 56, 56]          --\n",
              "│    │    └─Conv2d: 3-32                 [1, 128, 28, 28]          (147,456)\n",
              "│    │    └─BatchNorm2d: 3-33            [1, 128, 28, 28]          (256)\n",
              "│    │    └─ReLU: 3-34                   [1, 128, 28, 28]          --\n",
              "│    │    └─Conv2d: 3-35                 [1, 512, 28, 28]          (65,536)\n",
              "│    │    └─BatchNorm2d: 3-36            [1, 512, 28, 28]          (1,024)\n",
              "│    │    └─Sequential: 3-37             [1, 512, 28, 28]          (132,096)\n",
              "│    │    └─ReLU: 3-38                   [1, 512, 28, 28]          --\n",
              "│    └─Bottleneck: 2-5                   [1, 512, 28, 28]          --\n",
              "│    │    └─Conv2d: 3-39                 [1, 128, 28, 28]          (65,536)\n",
              "│    │    └─BatchNorm2d: 3-40            [1, 128, 28, 28]          (256)\n",
              "│    │    └─ReLU: 3-41                   [1, 128, 28, 28]          --\n",
              "│    │    └─Conv2d: 3-42                 [1, 128, 28, 28]          (147,456)\n",
              "│    │    └─BatchNorm2d: 3-43            [1, 128, 28, 28]          (256)\n",
              "│    │    └─ReLU: 3-44                   [1, 128, 28, 28]          --\n",
              "│    │    └─Conv2d: 3-45                 [1, 512, 28, 28]          (65,536)\n",
              "│    │    └─BatchNorm2d: 3-46            [1, 512, 28, 28]          (1,024)\n",
              "│    │    └─ReLU: 3-47                   [1, 512, 28, 28]          --\n",
              "│    └─Bottleneck: 2-6                   [1, 512, 28, 28]          --\n",
              "│    │    └─Conv2d: 3-48                 [1, 128, 28, 28]          (65,536)\n",
              "│    │    └─BatchNorm2d: 3-49            [1, 128, 28, 28]          (256)\n",
              "│    │    └─ReLU: 3-50                   [1, 128, 28, 28]          --\n",
              "│    │    └─Conv2d: 3-51                 [1, 128, 28, 28]          (147,456)\n",
              "│    │    └─BatchNorm2d: 3-52            [1, 128, 28, 28]          (256)\n",
              "│    │    └─ReLU: 3-53                   [1, 128, 28, 28]          --\n",
              "│    │    └─Conv2d: 3-54                 [1, 512, 28, 28]          (65,536)\n",
              "│    │    └─BatchNorm2d: 3-55            [1, 512, 28, 28]          (1,024)\n",
              "│    │    └─ReLU: 3-56                   [1, 512, 28, 28]          --\n",
              "│    └─Bottleneck: 2-7                   [1, 512, 28, 28]          --\n",
              "│    │    └─Conv2d: 3-57                 [1, 128, 28, 28]          (65,536)\n",
              "│    │    └─BatchNorm2d: 3-58            [1, 128, 28, 28]          (256)\n",
              "│    │    └─ReLU: 3-59                   [1, 128, 28, 28]          --\n",
              "│    │    └─Conv2d: 3-60                 [1, 128, 28, 28]          (147,456)\n",
              "│    │    └─BatchNorm2d: 3-61            [1, 128, 28, 28]          (256)\n",
              "│    │    └─ReLU: 3-62                   [1, 128, 28, 28]          --\n",
              "│    │    └─Conv2d: 3-63                 [1, 512, 28, 28]          (65,536)\n",
              "│    │    └─BatchNorm2d: 3-64            [1, 512, 28, 28]          (1,024)\n",
              "│    │    └─ReLU: 3-65                   [1, 512, 28, 28]          --\n",
              "├─Sequential: 1-7                        [1, 1024, 14, 14]         --\n",
              "│    └─Bottleneck: 2-8                   [1, 1024, 14, 14]         --\n",
              "│    │    └─Conv2d: 3-66                 [1, 256, 28, 28]          (131,072)\n",
              "│    │    └─BatchNorm2d: 3-67            [1, 256, 28, 28]          (512)\n",
              "│    │    └─ReLU: 3-68                   [1, 256, 28, 28]          --\n",
              "│    │    └─Conv2d: 3-69                 [1, 256, 14, 14]          (589,824)\n",
              "│    │    └─BatchNorm2d: 3-70            [1, 256, 14, 14]          (512)\n",
              "│    │    └─ReLU: 3-71                   [1, 256, 14, 14]          --\n",
              "│    │    └─Conv2d: 3-72                 [1, 1024, 14, 14]         (262,144)\n",
              "│    │    └─BatchNorm2d: 3-73            [1, 1024, 14, 14]         (2,048)\n",
              "│    │    └─Sequential: 3-74             [1, 1024, 14, 14]         (526,336)\n",
              "│    │    └─ReLU: 3-75                   [1, 1024, 14, 14]         --\n",
              "│    └─Bottleneck: 2-9                   [1, 1024, 14, 14]         --\n",
              "│    │    └─Conv2d: 3-76                 [1, 256, 14, 14]          (262,144)\n",
              "│    │    └─BatchNorm2d: 3-77            [1, 256, 14, 14]          (512)\n",
              "│    │    └─ReLU: 3-78                   [1, 256, 14, 14]          --\n",
              "│    │    └─Conv2d: 3-79                 [1, 256, 14, 14]          (589,824)\n",
              "│    │    └─BatchNorm2d: 3-80            [1, 256, 14, 14]          (512)\n",
              "│    │    └─ReLU: 3-81                   [1, 256, 14, 14]          --\n",
              "│    │    └─Conv2d: 3-82                 [1, 1024, 14, 14]         (262,144)\n",
              "│    │    └─BatchNorm2d: 3-83            [1, 1024, 14, 14]         (2,048)\n",
              "│    │    └─ReLU: 3-84                   [1, 1024, 14, 14]         --\n",
              "│    └─Bottleneck: 2-10                  [1, 1024, 14, 14]         --\n",
              "│    │    └─Conv2d: 3-85                 [1, 256, 14, 14]          (262,144)\n",
              "│    │    └─BatchNorm2d: 3-86            [1, 256, 14, 14]          (512)\n",
              "│    │    └─ReLU: 3-87                   [1, 256, 14, 14]          --\n",
              "│    │    └─Conv2d: 3-88                 [1, 256, 14, 14]          (589,824)\n",
              "│    │    └─BatchNorm2d: 3-89            [1, 256, 14, 14]          (512)\n",
              "│    │    └─ReLU: 3-90                   [1, 256, 14, 14]          --\n",
              "│    │    └─Conv2d: 3-91                 [1, 1024, 14, 14]         (262,144)\n",
              "│    │    └─BatchNorm2d: 3-92            [1, 1024, 14, 14]         (2,048)\n",
              "│    │    └─ReLU: 3-93                   [1, 1024, 14, 14]         --\n",
              "│    └─Bottleneck: 2-11                  [1, 1024, 14, 14]         --\n",
              "│    │    └─Conv2d: 3-94                 [1, 256, 14, 14]          (262,144)\n",
              "│    │    └─BatchNorm2d: 3-95            [1, 256, 14, 14]          (512)\n",
              "│    │    └─ReLU: 3-96                   [1, 256, 14, 14]          --\n",
              "│    │    └─Conv2d: 3-97                 [1, 256, 14, 14]          (589,824)\n",
              "│    │    └─BatchNorm2d: 3-98            [1, 256, 14, 14]          (512)\n",
              "│    │    └─ReLU: 3-99                   [1, 256, 14, 14]          --\n",
              "│    │    └─Conv2d: 3-100                [1, 1024, 14, 14]         (262,144)\n",
              "│    │    └─BatchNorm2d: 3-101           [1, 1024, 14, 14]         (2,048)\n",
              "│    │    └─ReLU: 3-102                  [1, 1024, 14, 14]         --\n",
              "│    └─Bottleneck: 2-12                  [1, 1024, 14, 14]         --\n",
              "│    │    └─Conv2d: 3-103                [1, 256, 14, 14]          (262,144)\n",
              "│    │    └─BatchNorm2d: 3-104           [1, 256, 14, 14]          (512)\n",
              "│    │    └─ReLU: 3-105                  [1, 256, 14, 14]          --\n",
              "│    │    └─Conv2d: 3-106                [1, 256, 14, 14]          (589,824)\n",
              "│    │    └─BatchNorm2d: 3-107           [1, 256, 14, 14]          (512)\n",
              "│    │    └─ReLU: 3-108                  [1, 256, 14, 14]          --\n",
              "│    │    └─Conv2d: 3-109                [1, 1024, 14, 14]         (262,144)\n",
              "│    │    └─BatchNorm2d: 3-110           [1, 1024, 14, 14]         (2,048)\n",
              "│    │    └─ReLU: 3-111                  [1, 1024, 14, 14]         --\n",
              "│    └─Bottleneck: 2-13                  [1, 1024, 14, 14]         --\n",
              "│    │    └─Conv2d: 3-112                [1, 256, 14, 14]          (262,144)\n",
              "│    │    └─BatchNorm2d: 3-113           [1, 256, 14, 14]          (512)\n",
              "│    │    └─ReLU: 3-114                  [1, 256, 14, 14]          --\n",
              "│    │    └─Conv2d: 3-115                [1, 256, 14, 14]          (589,824)\n",
              "│    │    └─BatchNorm2d: 3-116           [1, 256, 14, 14]          (512)\n",
              "│    │    └─ReLU: 3-117                  [1, 256, 14, 14]          --\n",
              "│    │    └─Conv2d: 3-118                [1, 1024, 14, 14]         (262,144)\n",
              "│    │    └─BatchNorm2d: 3-119           [1, 1024, 14, 14]         (2,048)\n",
              "│    │    └─ReLU: 3-120                  [1, 1024, 14, 14]         --\n",
              "├─Sequential: 1-8                        [1, 2048, 7, 7]           --\n",
              "│    └─Bottleneck: 2-14                  [1, 2048, 7, 7]           --\n",
              "│    │    └─Conv2d: 3-121                [1, 512, 14, 14]          (524,288)\n",
              "│    │    └─BatchNorm2d: 3-122           [1, 512, 14, 14]          (1,024)\n",
              "│    │    └─ReLU: 3-123                  [1, 512, 14, 14]          --\n",
              "│    │    └─Conv2d: 3-124                [1, 512, 7, 7]            (2,359,296)\n",
              "│    │    └─BatchNorm2d: 3-125           [1, 512, 7, 7]            (1,024)\n",
              "│    │    └─ReLU: 3-126                  [1, 512, 7, 7]            --\n",
              "│    │    └─Conv2d: 3-127                [1, 2048, 7, 7]           (1,048,576)\n",
              "│    │    └─BatchNorm2d: 3-128           [1, 2048, 7, 7]           (4,096)\n",
              "│    │    └─Sequential: 3-129            [1, 2048, 7, 7]           (2,101,248)\n",
              "│    │    └─ReLU: 3-130                  [1, 2048, 7, 7]           --\n",
              "│    └─Bottleneck: 2-15                  [1, 2048, 7, 7]           --\n",
              "│    │    └─Conv2d: 3-131                [1, 512, 7, 7]            (1,048,576)\n",
              "│    │    └─BatchNorm2d: 3-132           [1, 512, 7, 7]            (1,024)\n",
              "│    │    └─ReLU: 3-133                  [1, 512, 7, 7]            --\n",
              "│    │    └─Conv2d: 3-134                [1, 512, 7, 7]            (2,359,296)\n",
              "│    │    └─BatchNorm2d: 3-135           [1, 512, 7, 7]            (1,024)\n",
              "│    │    └─ReLU: 3-136                  [1, 512, 7, 7]            --\n",
              "│    │    └─Conv2d: 3-137                [1, 2048, 7, 7]           (1,048,576)\n",
              "│    │    └─BatchNorm2d: 3-138           [1, 2048, 7, 7]           (4,096)\n",
              "│    │    └─ReLU: 3-139                  [1, 2048, 7, 7]           --\n",
              "│    └─Bottleneck: 2-16                  [1, 2048, 7, 7]           --\n",
              "│    │    └─Conv2d: 3-140                [1, 512, 7, 7]            (1,048,576)\n",
              "│    │    └─BatchNorm2d: 3-141           [1, 512, 7, 7]            (1,024)\n",
              "│    │    └─ReLU: 3-142                  [1, 512, 7, 7]            --\n",
              "│    │    └─Conv2d: 3-143                [1, 512, 7, 7]            (2,359,296)\n",
              "│    │    └─BatchNorm2d: 3-144           [1, 512, 7, 7]            (1,024)\n",
              "│    │    └─ReLU: 3-145                  [1, 512, 7, 7]            --\n",
              "│    │    └─Conv2d: 3-146                [1, 2048, 7, 7]           (1,048,576)\n",
              "│    │    └─BatchNorm2d: 3-147           [1, 2048, 7, 7]           (4,096)\n",
              "│    │    └─ReLU: 3-148                  [1, 2048, 7, 7]           --\n",
              "├─AdaptiveAvgPool2d: 1-9                 [1, 2048, 1, 1]           --\n",
              "├─Linear: 1-10                           [1, 102]                  208,998\n",
              "==========================================================================================\n",
              "Total params: 23,717,030\n",
              "Trainable params: 208,998\n",
              "Non-trainable params: 23,508,032\n",
              "Total mult-adds (G): 4.09\n",
              "==========================================================================================\n",
              "Input size (MB): 0.60\n",
              "Forward/backward pass size (MB): 177.82\n",
              "Params size (MB): 94.87\n",
              "Estimated Total Size (MB): 273.29\n",
              "=========================================================================================="
            ]
          },
          "metadata": {},
          "execution_count": 36
        }
      ]
    },
    {
      "cell_type": "markdown",
      "source": [
        "## Train"
      ],
      "metadata": {
        "id": "aF7HWoKdhY_D"
      }
    },
    {
      "cell_type": "code",
      "source": [
        "import torch\n",
        "\n",
        "def score(model, dataloader, device):\n",
        "    y_true = []\n",
        "    y_pred = []\n",
        "    with torch.no_grad():\n",
        "        for x, y in dataloader:\n",
        "            x = x.to(device)\n",
        "            y = y.to(device)\n",
        "            out = model(x)\n",
        "            y_pred.extend(torch.argmax(out, dim=-1).tolist())\n",
        "            y_true.extend(y.tolist())\n",
        "    accuracy = sum([1 if y_true[i] == y_pred[i] else 0 for i in range(len(y_true))]) / len(y_true)\n",
        "    return accuracy"
      ],
      "metadata": {
        "id": "a_3LON4QhTiR"
      },
      "execution_count": 37,
      "outputs": []
    },
    {
      "cell_type": "code",
      "source": [
        "device = torch.device(\"cuda\" if torch.cuda.is_available() else \"cpu\")\n",
        "resnet50.to(device)\n",
        "\n",
        "import torch.optim as optim\n",
        "criterion = nn.CrossEntropyLoss()\n",
        "optimizer = optim.Adam(resnet50.fc.parameters(), lr=0.01)\n",
        "scheduler = optim.lr_scheduler.CosineAnnealingLR(optimizer, T_max=20)"
      ],
      "metadata": {
        "id": "34TnK8bphbqy"
      },
      "execution_count": 39,
      "outputs": []
    },
    {
      "cell_type": "code",
      "source": [
        "num_epochs = 20\n",
        "for epoch in range(num_epochs):\n",
        "    # Train\n",
        "    for i, (data, labels) in enumerate(train_loader):\n",
        "        data = data.to(device)\n",
        "        labels = labels.to(device)\n",
        "\n",
        "        outputs = resnet50(data)\n",
        "        loss = criterion(outputs, labels)\n",
        "\n",
        "        optimizer.zero_grad()\n",
        "        loss.backward()\n",
        "        optimizer.step()\n",
        "        scheduler.step()\n",
        "        if i % 20 == 0:\n",
        "            print('Epoch [{}/{}], Step [{}/{}], Loss: {:.4f}'\n",
        "                .format(epoch+1, num_epochs, i+1, len(train_loader), loss.item()))\n",
        "\n",
        "    # Evaluate\n",
        "    train_acc = score(resnet50, train_loader, device)\n",
        "    val_acc = score(resnet50, val_loader, device)\n",
        "    print(\"Epoch [{}/{}], Train Acc: {:.4f}, Val Acc: {:.4f}\".format(epoch+1, num_epochs, train_acc, val_acc))\n",
        "\n",
        "    # Save the model checkpoint\n",
        "    if (epoch+1) % 2 == 0:\n",
        "        torch.save(resnet50.state_dict(), 'resnet50_epoch{}.pth'.format(epoch+1))\n",
        "\n",
        "    # Decay learning rate\n",
        "    scheduler.step()"
      ],
      "metadata": {
        "colab": {
          "base_uri": "https://localhost:8080/"
        },
        "id": "qX8y2uIrhd4D",
        "outputId": "3f9e9191-bc66-4e02-81ea-646d6a96007a"
      },
      "execution_count": 40,
      "outputs": [
        {
          "output_type": "stream",
          "name": "stdout",
          "text": [
            "Epoch [1/20], Step [1/113], Loss: 4.6180\n",
            "Epoch [1/20], Step [21/113], Loss: 2.2006\n",
            "Epoch [1/20], Step [41/113], Loss: 1.3069\n",
            "Epoch [1/20], Step [61/113], Loss: 1.0032\n",
            "Epoch [1/20], Step [81/113], Loss: 0.5128\n",
            "Epoch [1/20], Step [101/113], Loss: 0.6794\n",
            "Epoch [1/20], Train Acc: 0.9347, Val Acc: 0.8762\n",
            "Epoch [2/20], Step [1/113], Loss: 0.3520\n",
            "Epoch [2/20], Step [21/113], Loss: 0.3035\n",
            "Epoch [2/20], Step [41/113], Loss: 0.3684\n",
            "Epoch [2/20], Step [61/113], Loss: 0.4011\n",
            "Epoch [2/20], Step [81/113], Loss: 0.1931\n",
            "Epoch [2/20], Step [101/113], Loss: 0.1763\n",
            "Epoch [2/20], Train Acc: 0.9600, Val Acc: 0.8900\n",
            "Epoch [3/20], Step [1/113], Loss: 0.1002\n",
            "Epoch [3/20], Step [21/113], Loss: 0.2042\n",
            "Epoch [3/20], Step [41/113], Loss: 0.1919\n",
            "Epoch [3/20], Step [61/113], Loss: 0.0728\n",
            "Epoch [3/20], Step [81/113], Loss: 0.1228\n",
            "Epoch [3/20], Step [101/113], Loss: 0.0835\n",
            "Epoch [3/20], Train Acc: 0.9735, Val Acc: 0.8925\n",
            "Epoch [4/20], Step [1/113], Loss: 0.1021\n",
            "Epoch [4/20], Step [21/113], Loss: 0.1856\n",
            "Epoch [4/20], Step [41/113], Loss: 0.1308\n",
            "Epoch [4/20], Step [61/113], Loss: 0.1287\n",
            "Epoch [4/20], Step [81/113], Loss: 0.0915\n",
            "Epoch [4/20], Step [101/113], Loss: 0.1985\n",
            "Epoch [4/20], Train Acc: 0.9808, Val Acc: 0.8975\n",
            "Epoch [5/20], Step [1/113], Loss: 0.0891\n",
            "Epoch [5/20], Step [21/113], Loss: 0.0380\n",
            "Epoch [5/20], Step [41/113], Loss: 0.0380\n",
            "Epoch [5/20], Step [61/113], Loss: 0.0443\n",
            "Epoch [5/20], Step [81/113], Loss: 0.0565\n",
            "Epoch [5/20], Step [101/113], Loss: 0.1105\n",
            "Epoch [5/20], Train Acc: 0.9754, Val Acc: 0.9000\n",
            "Epoch [6/20], Step [1/113], Loss: 0.0444\n",
            "Epoch [6/20], Step [21/113], Loss: 0.0308\n",
            "Epoch [6/20], Step [41/113], Loss: 0.0590\n",
            "Epoch [6/20], Step [61/113], Loss: 0.0346\n",
            "Epoch [6/20], Step [81/113], Loss: 0.0524\n",
            "Epoch [6/20], Step [101/113], Loss: 0.0414\n",
            "Epoch [6/20], Train Acc: 0.9850, Val Acc: 0.9012\n",
            "Epoch [7/20], Step [1/113], Loss: 0.0186\n",
            "Epoch [7/20], Step [21/113], Loss: 0.0789\n",
            "Epoch [7/20], Step [41/113], Loss: 0.0597\n",
            "Epoch [7/20], Step [61/113], Loss: 0.0259\n",
            "Epoch [7/20], Step [81/113], Loss: 0.0314\n",
            "Epoch [7/20], Step [101/113], Loss: 0.0514\n",
            "Epoch [7/20], Train Acc: 0.9889, Val Acc: 0.8975\n",
            "Epoch [8/20], Step [1/113], Loss: 0.0369\n",
            "Epoch [8/20], Step [21/113], Loss: 0.0456\n",
            "Epoch [8/20], Step [41/113], Loss: 0.0545\n",
            "Epoch [8/20], Step [61/113], Loss: 0.0917\n",
            "Epoch [8/20], Step [81/113], Loss: 0.0235\n",
            "Epoch [8/20], Step [101/113], Loss: 0.0134\n",
            "Epoch [8/20], Train Acc: 0.9903, Val Acc: 0.9113\n",
            "Epoch [9/20], Step [1/113], Loss: 0.0164\n",
            "Epoch [9/20], Step [21/113], Loss: 0.0455\n",
            "Epoch [9/20], Step [41/113], Loss: 0.0367\n",
            "Epoch [9/20], Step [61/113], Loss: 0.0455\n",
            "Epoch [9/20], Step [81/113], Loss: 0.0225\n",
            "Epoch [9/20], Step [101/113], Loss: 0.0652\n",
            "Epoch [9/20], Train Acc: 0.9893, Val Acc: 0.9087\n",
            "Epoch [10/20], Step [1/113], Loss: 0.0146\n",
            "Epoch [10/20], Step [21/113], Loss: 0.0210\n",
            "Epoch [10/20], Step [41/113], Loss: 0.0411\n",
            "Epoch [10/20], Step [61/113], Loss: 0.0920\n",
            "Epoch [10/20], Step [81/113], Loss: 0.0262\n",
            "Epoch [10/20], Step [101/113], Loss: 0.0396\n",
            "Epoch [10/20], Train Acc: 0.9914, Val Acc: 0.8900\n",
            "Epoch [11/20], Step [1/113], Loss: 0.1067\n",
            "Epoch [11/20], Step [21/113], Loss: 0.0259\n",
            "Epoch [11/20], Step [41/113], Loss: 0.0247\n",
            "Epoch [11/20], Step [61/113], Loss: 0.1320\n",
            "Epoch [11/20], Step [81/113], Loss: 0.0777\n",
            "Epoch [11/20], Step [101/113], Loss: 0.0470\n",
            "Epoch [11/20], Train Acc: 0.9887, Val Acc: 0.8962\n",
            "Epoch [12/20], Step [1/113], Loss: 0.0119\n",
            "Epoch [12/20], Step [21/113], Loss: 0.0135\n",
            "Epoch [12/20], Step [41/113], Loss: 0.0345\n",
            "Epoch [12/20], Step [61/113], Loss: 0.0349\n",
            "Epoch [12/20], Step [81/113], Loss: 0.0276\n",
            "Epoch [12/20], Step [101/113], Loss: 0.0579\n",
            "Epoch [12/20], Train Acc: 0.9892, Val Acc: 0.8975\n",
            "Epoch [13/20], Step [1/113], Loss: 0.0191\n",
            "Epoch [13/20], Step [21/113], Loss: 0.0791\n",
            "Epoch [13/20], Step [41/113], Loss: 0.0131\n",
            "Epoch [13/20], Step [61/113], Loss: 0.1378\n",
            "Epoch [13/20], Step [81/113], Loss: 0.0099\n",
            "Epoch [13/20], Step [101/113], Loss: 0.0831\n",
            "Epoch [13/20], Train Acc: 0.9897, Val Acc: 0.8900\n",
            "Epoch [14/20], Step [1/113], Loss: 0.0939\n",
            "Epoch [14/20], Step [21/113], Loss: 0.0125\n",
            "Epoch [14/20], Step [41/113], Loss: 0.0088\n",
            "Epoch [14/20], Step [61/113], Loss: 0.0274\n",
            "Epoch [14/20], Step [81/113], Loss: 0.1213\n",
            "Epoch [14/20], Step [101/113], Loss: 0.0411\n",
            "Epoch [14/20], Train Acc: 0.9939, Val Acc: 0.9038\n",
            "Epoch [15/20], Step [1/113], Loss: 0.0062\n",
            "Epoch [15/20], Step [21/113], Loss: 0.1659\n",
            "Epoch [15/20], Step [41/113], Loss: 0.0506\n",
            "Epoch [15/20], Step [61/113], Loss: 0.0387\n",
            "Epoch [15/20], Step [81/113], Loss: 0.0096\n",
            "Epoch [15/20], Step [101/113], Loss: 0.0156\n",
            "Epoch [15/20], Train Acc: 0.9922, Val Acc: 0.8988\n",
            "Epoch [16/20], Step [1/113], Loss: 0.0234\n",
            "Epoch [16/20], Step [21/113], Loss: 0.0326\n",
            "Epoch [16/20], Step [41/113], Loss: 0.0382\n",
            "Epoch [16/20], Step [61/113], Loss: 0.1076\n",
            "Epoch [16/20], Step [81/113], Loss: 0.0068\n",
            "Epoch [16/20], Step [101/113], Loss: 0.0705\n",
            "Epoch [16/20], Train Acc: 0.9917, Val Acc: 0.8938\n",
            "Epoch [17/20], Step [1/113], Loss: 0.0433\n",
            "Epoch [17/20], Step [21/113], Loss: 0.0453\n",
            "Epoch [17/20], Step [41/113], Loss: 0.0243\n",
            "Epoch [17/20], Step [61/113], Loss: 0.0203\n",
            "Epoch [17/20], Step [81/113], Loss: 0.0861\n",
            "Epoch [17/20], Step [101/113], Loss: 0.0101\n",
            "Epoch [17/20], Train Acc: 0.9878, Val Acc: 0.8938\n",
            "Epoch [18/20], Step [1/113], Loss: 0.0429\n",
            "Epoch [18/20], Step [21/113], Loss: 0.0118\n",
            "Epoch [18/20], Step [41/113], Loss: 0.0656\n",
            "Epoch [18/20], Step [61/113], Loss: 0.0310\n",
            "Epoch [18/20], Step [81/113], Loss: 0.0138\n",
            "Epoch [18/20], Step [101/113], Loss: 0.0127\n",
            "Epoch [18/20], Train Acc: 0.9921, Val Acc: 0.8900\n",
            "Epoch [19/20], Step [1/113], Loss: 0.0200\n",
            "Epoch [19/20], Step [21/113], Loss: 0.0037\n",
            "Epoch [19/20], Step [41/113], Loss: 0.0373\n",
            "Epoch [19/20], Step [61/113], Loss: 0.0214\n",
            "Epoch [19/20], Step [81/113], Loss: 0.0317\n",
            "Epoch [19/20], Step [101/113], Loss: 0.0093\n",
            "Epoch [19/20], Train Acc: 0.9896, Val Acc: 0.8950\n",
            "Epoch [20/20], Step [1/113], Loss: 0.0108\n",
            "Epoch [20/20], Step [21/113], Loss: 0.0213\n",
            "Epoch [20/20], Step [41/113], Loss: 0.0065\n",
            "Epoch [20/20], Step [61/113], Loss: 0.0080\n",
            "Epoch [20/20], Step [81/113], Loss: 0.1081\n",
            "Epoch [20/20], Step [101/113], Loss: 0.0555\n",
            "Epoch [20/20], Train Acc: 0.9917, Val Acc: 0.9025\n"
          ]
        }
      ]
    },
    {
      "cell_type": "markdown",
      "source": [
        "## submit"
      ],
      "metadata": {
        "id": "QohCR_wvlBPK"
      }
    },
    {
      "cell_type": "markdown",
      "source": [
        "### data"
      ],
      "metadata": {
        "id": "w2CBdK5EsiVn"
      }
    },
    {
      "cell_type": "code",
      "source": [
        "import torchvision.transforms as transforms\n",
        "import os\n",
        "from PIL import Image\n",
        "from torch.utils.data import Dataset, DataLoader\n",
        "\n",
        "class TestCaltechDataset(Dataset):\n",
        "    \"\"\"Caltech 101 dataset.\"\"\"\n",
        "\n",
        "    def __init__(self, root_dir, data_path, transform=None):\n",
        "        \"\"\"\n",
        "        Args:\n",
        "            root_dir (string): Directory with all the images.\n",
        "            transform (callable, optional): Optional transform to be applied\n",
        "                on a sample.\n",
        "        \"\"\"\n",
        "        self.root_dir = root_dir\n",
        "        self.data_path = data_path\n",
        "        self.transform = transform\n",
        "\n",
        "        # Load the data\n",
        "        self.img_paths = []\n",
        "        self.load_data()\n",
        "\n",
        "    def load_data(self):\n",
        "        \"\"\"\n",
        "        Load the data from the root directory.\n",
        "        \"\"\"\n",
        "\n",
        "        with open(self.data_path, \"r\", encoding=\"utf-8\") as f:\n",
        "            self.info = f.readlines()\n",
        "        for img_info in self.info:\n",
        "            img_path = img_info.strip()\n",
        "            self.img_paths.append(img_path)\n",
        "\n",
        "\n",
        "    def __len__(self):\n",
        "        return len(self.img_paths)\n",
        "\n",
        "    def __getitem__(self, idx):\n",
        "        img_path = self.img_paths[idx]\n",
        "        image = Image.open(os.path.join(self.root_dir, img_path)).convert('RGB')\n",
        "\n",
        "        if self.transform:\n",
        "            image = self.transform(image)\n",
        "\n",
        "        return image\n",
        "\n",
        "\n",
        "def get_test_dataloader(batch_size = 32, shuffle=False):\n",
        "    \"\"\"\n",
        "    Get train and val dataloader of Caltech 101 dataset.\n",
        "    \"\"\"\n",
        "\n",
        "    transform_test=transforms.Compose([\n",
        "        transforms.Resize(256),\n",
        "        transforms.CenterCrop(224),\n",
        "        transforms.ToTensor(),\n",
        "        transforms.Normalize(mean=[0.485,0.456,0.406],std=[0.229,0.224,0.225])\n",
        "    ])\n",
        "\n",
        "    test_dataset = TestCaltechDataset(\n",
        "        root_dir = './data/dataset/images',\n",
        "        data_path = './data/dataset/test.txt',\n",
        "        transform = transform_test\n",
        "    )\n",
        "\n",
        "    test_dataloader = DataLoader(test_dataset, batch_size=batch_size, shuffle=shuffle)\n",
        "\n",
        "    return test_dataloader, test_dataset"
      ],
      "metadata": {
        "id": "kDSc2WDElCkW"
      },
      "execution_count": 41,
      "outputs": []
    },
    {
      "cell_type": "code",
      "source": [
        "test_loader, test_dataset = get_test_dataloader()"
      ],
      "metadata": {
        "id": "frQGQ4wasNHo"
      },
      "execution_count": 42,
      "outputs": []
    },
    {
      "cell_type": "code",
      "source": [
        "print('=============test_loader =============')\n",
        "for data in test_loader:\n",
        "    print(data)\n",
        "    print(data.shape)\n",
        "    break"
      ],
      "metadata": {
        "colab": {
          "base_uri": "https://localhost:8080/"
        },
        "id": "paaj_39usWrS",
        "outputId": "579bbf4b-e950-49d8-bc50-5f7ea3017f2d"
      },
      "execution_count": 43,
      "outputs": [
        {
          "output_type": "stream",
          "name": "stdout",
          "text": [
            "=============test_loader =============\n",
            "tensor([[[[-1.0904, -0.8507, -0.8164,  ..., -1.8782, -1.8782, -1.8439],\n",
            "          [-0.6281, -0.4054, -0.5424,  ..., -1.8782, -1.8782, -1.8097],\n",
            "          [ 0.7077,  0.2453, -0.7822,  ..., -1.6555, -1.6384, -1.5870],\n",
            "          ...,\n",
            "          [-1.7925, -1.7069, -1.6042,  ..., -0.7479, -0.7650, -0.8678],\n",
            "          [-1.7583, -1.7583, -1.6898,  ..., -0.7993, -1.1247, -1.2617],\n",
            "          [-1.6042, -1.7583, -1.7754,  ..., -1.2788, -1.2103, -1.1418]],\n",
            "\n",
            "         [[-0.7052, -0.4601, -0.4776,  ..., -1.6681, -1.6681, -1.6506],\n",
            "          [-0.2150, -0.0049, -0.1800,  ..., -1.7031, -1.6681, -1.6331],\n",
            "          [ 1.1331,  0.6779, -0.4076,  ..., -1.5280, -1.4580, -1.4405],\n",
            "          ...,\n",
            "          [-1.7381, -1.6506, -1.5805,  ..., -0.8627, -0.8803, -1.0028],\n",
            "          [-1.7381, -1.7381, -1.6681,  ..., -0.9153, -1.2479, -1.4055],\n",
            "          [-1.6155, -1.7731, -1.7906,  ..., -1.3704, -1.3179, -1.2479]],\n",
            "\n",
            "         [[-0.6890, -0.4275, -0.3753,  ..., -1.5604, -1.5604, -1.5081],\n",
            "          [-0.2358,  0.0082, -0.1487,  ..., -1.5779, -1.5430, -1.4733],\n",
            "          [ 1.0888,  0.6182, -0.4450,  ..., -1.3513, -1.2990, -1.2641],\n",
            "          ...,\n",
            "          [-1.4907, -1.4036, -1.3339,  ..., -0.7413, -0.7587, -0.8458],\n",
            "          [-1.4907, -1.5256, -1.4559,  ..., -0.7936, -1.1247, -1.2467],\n",
            "          [-1.3687, -1.5430, -1.5604,  ..., -1.2293, -1.1770, -1.0550]]],\n",
            "\n",
            "\n",
            "        [[[-2.1179, -1.9809, -2.1008,  ...,  2.2318,  2.2318,  2.2318],\n",
            "          [-2.1179, -2.1008, -2.0665,  ...,  2.2318,  2.2318,  2.2318],\n",
            "          [-2.1179, -2.1179, -2.0152,  ...,  2.2318,  2.2318,  2.2318],\n",
            "          ...,\n",
            "          [ 2.2318,  2.2318,  2.2318,  ..., -2.1179, -2.1179, -2.1179],\n",
            "          [ 2.2318,  2.2318,  2.2318,  ..., -2.1179, -2.0837, -2.1179],\n",
            "          [ 2.2318,  2.2318,  2.2318,  ..., -2.0837, -1.8953, -2.1179]],\n",
            "\n",
            "         [[-2.0357, -1.8957, -2.0182,  ...,  2.4111,  2.4111,  2.4111],\n",
            "          [-2.0357, -2.0182, -1.9832,  ...,  2.4111,  2.4111,  2.4111],\n",
            "          [-2.0357, -2.0357, -1.9307,  ...,  2.4111,  2.4111,  2.4111],\n",
            "          ...,\n",
            "          [ 2.4111,  2.4111,  2.4111,  ..., -2.0357, -2.0357, -2.0357],\n",
            "          [ 2.4111,  2.4111,  2.4111,  ..., -2.0357, -2.0007, -2.0357],\n",
            "          [ 2.4111,  2.4111,  2.4111,  ..., -2.0007, -1.8081, -2.0357]],\n",
            "\n",
            "         [[-1.8044, -1.6650, -1.7870,  ...,  2.6226,  2.6226,  2.6226],\n",
            "          [-1.8044, -1.7870, -1.7522,  ...,  2.6226,  2.6226,  2.6226],\n",
            "          [-1.8044, -1.8044, -1.6999,  ...,  2.6226,  2.6226,  2.6226],\n",
            "          ...,\n",
            "          [ 2.6226,  2.6226,  2.6226,  ..., -1.8044, -1.8044, -1.8044],\n",
            "          [ 2.6226,  2.6226,  2.6226,  ..., -1.8044, -1.7696, -1.8044],\n",
            "          [ 2.6226,  2.6226,  2.6226,  ..., -1.7696, -1.5779, -1.8044]]],\n",
            "\n",
            "\n",
            "        [[[-1.5185, -1.5185, -1.5185,  ..., -1.4329, -1.4500, -1.4672],\n",
            "          [-1.5185, -1.5185, -1.5185,  ..., -1.4672, -1.4843, -1.5185],\n",
            "          [-1.5185, -1.5185, -1.5185,  ..., -1.4672, -1.4843, -1.5185],\n",
            "          ...,\n",
            "          [-1.5014, -1.5014, -1.5014,  ..., -1.5528, -1.5357, -1.5185],\n",
            "          [-1.5185, -1.5185, -1.5185,  ..., -1.5699, -1.5528, -1.5357],\n",
            "          [-1.5014, -1.5014, -1.5014,  ..., -1.5357, -1.5185, -1.5014]],\n",
            "\n",
            "         [[-1.4055, -1.4055, -1.4055,  ..., -1.3004, -1.3179, -1.3354],\n",
            "          [-1.4055, -1.4055, -1.4055,  ..., -1.3354, -1.3529, -1.3880],\n",
            "          [-1.4055, -1.4055, -1.4055,  ..., -1.3354, -1.3529, -1.3880],\n",
            "          ...,\n",
            "          [-1.4055, -1.4055, -1.4055,  ..., -1.3704, -1.3529, -1.3354],\n",
            "          [-1.4230, -1.4230, -1.4230,  ..., -1.4055, -1.3880, -1.3704],\n",
            "          [-1.4055, -1.4055, -1.4055,  ..., -1.3704, -1.3529, -1.3354]],\n",
            "\n",
            "         [[-1.1421, -1.1421, -1.1421,  ..., -1.0898, -1.1073, -1.1247],\n",
            "          [-1.1421, -1.1421, -1.1421,  ..., -1.1247, -1.1421, -1.1770],\n",
            "          [-1.1421, -1.1421, -1.1421,  ..., -1.1247, -1.1421, -1.1770],\n",
            "          ...,\n",
            "          [-1.1770, -1.1770, -1.1770,  ..., -1.1596, -1.1596, -1.1421],\n",
            "          [-1.1944, -1.1944, -1.1944,  ..., -1.1944, -1.1770, -1.1596],\n",
            "          [-1.1770, -1.1770, -1.1770,  ..., -1.1596, -1.1421, -1.1247]]],\n",
            "\n",
            "\n",
            "        ...,\n",
            "\n",
            "\n",
            "        [[[-1.6213, -1.6555, -1.6042,  ..., -1.7925, -1.7925, -1.7583],\n",
            "          [-1.6213, -1.5870, -1.5357,  ..., -1.7412, -1.7583, -1.7412],\n",
            "          [-1.6555, -1.5185, -1.4843,  ..., -1.6727, -1.7069, -1.7069],\n",
            "          ...,\n",
            "          [-1.3815, -1.7069, -1.5014,  ..., -1.4672, -1.4672, -1.3987],\n",
            "          [-1.4329, -1.5870, -1.4672,  ..., -1.1247, -1.5870, -1.6727],\n",
            "          [-1.4672, -1.4672, -1.4672,  ..., -0.3541, -1.3130, -1.7412]],\n",
            "\n",
            "         [[-1.0028, -1.0378, -0.9853,  ..., -1.1779, -1.1779, -1.1429],\n",
            "          [-1.0028, -0.9678, -0.9153,  ..., -1.1253, -1.1429, -1.1253],\n",
            "          [-1.0378, -0.8978, -0.8627,  ..., -1.0553, -1.0903, -1.0903],\n",
            "          ...,\n",
            "          [-0.4076, -0.6352, -0.3901,  ..., -0.9328, -0.8627, -0.7402],\n",
            "          [-0.4601, -0.5301, -0.3725,  ..., -0.6702, -1.0378, -1.0203],\n",
            "          [-0.5126, -0.4776, -0.4601,  ...,  0.0301, -0.8277, -1.1253]],\n",
            "\n",
            "         [[-0.6018, -0.6367, -0.5844,  ..., -0.7761, -0.7761, -0.7413],\n",
            "          [-0.6018, -0.5670, -0.5147,  ..., -0.7238, -0.7413, -0.7238],\n",
            "          [-0.6367, -0.4973, -0.4624,  ..., -0.6541, -0.6890, -0.6890],\n",
            "          ...,\n",
            "          [ 0.3916,  0.1825,  0.3742,  ..., -0.6715, -0.5844, -0.3927],\n",
            "          [ 0.3393,  0.2871,  0.3916,  ..., -0.4450, -0.7761, -0.6890],\n",
            "          [ 0.2696,  0.3045,  0.2348,  ...,  0.2522, -0.5844, -0.8110]]],\n",
            "\n",
            "\n",
            "        [[[ 2.2489,  2.2489,  2.2489,  ...,  2.2489,  2.2489,  2.2489],\n",
            "          [ 2.2489,  2.2489,  2.2489,  ...,  2.2489,  2.2489,  2.2489],\n",
            "          [ 2.2489,  2.2489,  2.2489,  ...,  2.2489,  2.2489,  2.2489],\n",
            "          ...,\n",
            "          [ 2.2489,  2.2489,  2.2489,  ...,  2.2489,  2.2489,  2.2489],\n",
            "          [ 2.2489,  2.2489,  2.2489,  ...,  2.2489,  2.2489,  2.2489],\n",
            "          [ 2.2489,  2.2489,  2.2489,  ...,  2.2489,  2.2489,  2.2489]],\n",
            "\n",
            "         [[ 2.4286,  2.4286,  2.4286,  ...,  2.4286,  2.4286,  2.4286],\n",
            "          [ 2.4286,  2.4286,  2.4286,  ...,  2.4286,  2.4286,  2.4286],\n",
            "          [ 2.4286,  2.4286,  2.4286,  ...,  2.4286,  2.4286,  2.4286],\n",
            "          ...,\n",
            "          [ 2.4286,  2.4286,  2.4286,  ...,  2.4286,  2.4286,  2.4286],\n",
            "          [ 2.4286,  2.4286,  2.4286,  ...,  2.4286,  2.4286,  2.4286],\n",
            "          [ 2.4286,  2.4286,  2.4286,  ...,  2.4286,  2.4286,  2.4286]],\n",
            "\n",
            "         [[ 2.6400,  2.6400,  2.6400,  ...,  2.6400,  2.6400,  2.6400],\n",
            "          [ 2.6400,  2.6400,  2.6400,  ...,  2.6400,  2.6400,  2.6400],\n",
            "          [ 2.6400,  2.6400,  2.6400,  ...,  2.6400,  2.6400,  2.6400],\n",
            "          ...,\n",
            "          [ 2.6400,  2.6400,  2.6400,  ...,  2.6400,  2.6400,  2.6400],\n",
            "          [ 2.6400,  2.6400,  2.6400,  ...,  2.6400,  2.6400,  2.6400],\n",
            "          [ 2.6400,  2.6400,  2.6400,  ...,  2.6400,  2.6400,  2.6400]]],\n",
            "\n",
            "\n",
            "        [[[ 2.2318,  2.2147,  2.2318,  ...,  2.2318,  2.2318,  2.2318],\n",
            "          [ 2.2318,  2.2147,  2.2318,  ...,  2.2318,  2.2318,  2.2318],\n",
            "          [ 2.2318,  2.2147,  2.2318,  ...,  2.2318,  2.2318,  2.2318],\n",
            "          ...,\n",
            "          [ 2.2489,  2.2489,  2.2489,  ...,  1.8722,  1.9064,  1.9578],\n",
            "          [ 2.2489,  2.2489,  2.2489,  ...,  1.9064,  1.9235,  1.9578],\n",
            "          [ 2.2489,  2.2489,  2.2489,  ...,  1.9235,  1.9578,  1.9920]],\n",
            "\n",
            "         [[ 2.4111,  2.3936,  2.4111,  ...,  2.4111,  2.4111,  2.4111],\n",
            "          [ 2.4111,  2.3936,  2.4111,  ...,  2.4111,  2.4111,  2.4111],\n",
            "          [ 2.4111,  2.3936,  2.4111,  ...,  2.4111,  2.4111,  2.4111],\n",
            "          ...,\n",
            "          [ 2.4286,  2.4286,  2.4286,  ...,  2.0434,  2.0784,  2.1310],\n",
            "          [ 2.4286,  2.4286,  2.4286,  ...,  2.0784,  2.0959,  2.1310],\n",
            "          [ 2.4286,  2.4286,  2.4286,  ...,  2.0959,  2.1310,  2.1660]],\n",
            "\n",
            "         [[ 2.6226,  2.6051,  2.6226,  ...,  2.6226,  2.6226,  2.6226],\n",
            "          [ 2.6226,  2.6051,  2.6226,  ...,  2.6226,  2.6226,  2.6226],\n",
            "          [ 2.6226,  2.6051,  2.6226,  ...,  2.6226,  2.6226,  2.6226],\n",
            "          ...,\n",
            "          [ 2.6400,  2.6400,  2.6400,  ...,  2.2391,  2.2740,  2.3263],\n",
            "          [ 2.6400,  2.6400,  2.6400,  ...,  2.2914,  2.3088,  2.3437],\n",
            "          [ 2.6400,  2.6400,  2.6400,  ...,  2.3088,  2.3437,  2.3786]]]])\n",
            "torch.Size([32, 3, 224, 224])\n"
          ]
        }
      ]
    },
    {
      "cell_type": "markdown",
      "source": [
        "### predict"
      ],
      "metadata": {
        "id": "pY2MYTdpslid"
      }
    },
    {
      "cell_type": "code",
      "source": [
        "resnet50.load_state_dict(torch.load('resnet50_epoch8.pth'))"
      ],
      "metadata": {
        "colab": {
          "base_uri": "https://localhost:8080/"
        },
        "id": "MPrJ6F82sYf4",
        "outputId": "ff798864-1137-486c-db8d-e1ed35c9a414"
      },
      "execution_count": 44,
      "outputs": [
        {
          "output_type": "execute_result",
          "data": {
            "text/plain": [
              "<All keys matched successfully>"
            ]
          },
          "metadata": {},
          "execution_count": 44
        }
      ]
    },
    {
      "cell_type": "code",
      "source": [
        "# 将预测结果写入列表中\n",
        "pred_list = []\n",
        "resnet50.eval()\n",
        "with torch.no_grad():\n",
        "    for data in test_loader:\n",
        "        data = data.to(device)\n",
        "        output = resnet50(data)\n",
        "        pred_list.extend(output.argmax(dim=-1).tolist())"
      ],
      "metadata": {
        "id": "2IYpeEJnszSz"
      },
      "execution_count": 45,
      "outputs": []
    },
    {
      "cell_type": "code",
      "source": [
        "len(test_dataset.img_paths)"
      ],
      "metadata": {
        "colab": {
          "base_uri": "https://localhost:8080/"
        },
        "id": "RfVo9NOhs56V",
        "outputId": "e62ef70d-9241-4c2c-8a2e-0490f5e849f3"
      },
      "execution_count": 46,
      "outputs": [
        {
          "output_type": "execute_result",
          "data": {
            "text/plain": [
              "1145"
            ]
          },
          "metadata": {},
          "execution_count": 46
        }
      ]
    },
    {
      "cell_type": "code",
      "source": [
        "len(pred_list)"
      ],
      "metadata": {
        "colab": {
          "base_uri": "https://localhost:8080/"
        },
        "id": "45TfSe7RtHfP",
        "outputId": "31f32487-7147-4661-ec51-791cd2df39ae"
      },
      "execution_count": 47,
      "outputs": [
        {
          "output_type": "execute_result",
          "data": {
            "text/plain": [
              "1145"
            ]
          },
          "metadata": {},
          "execution_count": 47
        }
      ]
    },
    {
      "cell_type": "code",
      "source": [
        "with open('./data/result.txt', 'w', encoding='utf-8') as f_result:\n",
        "    for i, pred in enumerate(pred_list):\n",
        "        f_result.write(test_dataset.img_paths[i] + '\\t' + str(pred) + '\\n')"
      ],
      "metadata": {
        "id": "sWO9fP78tKi4"
      },
      "execution_count": 52,
      "outputs": []
    },
    {
      "cell_type": "markdown",
      "source": [
        "### Take a look"
      ],
      "metadata": {
        "id": "x04jZ9bRuCq6"
      }
    },
    {
      "cell_type": "code",
      "source": [
        "with open('./data/result.txt', 'r', encoding='utf-8') as f_result:\n",
        "  res = f_result.readlines()"
      ],
      "metadata": {
        "id": "KDYOYb7cuETZ"
      },
      "execution_count": 53,
      "outputs": []
    },
    {
      "cell_type": "code",
      "source": [
        "len(res)"
      ],
      "metadata": {
        "colab": {
          "base_uri": "https://localhost:8080/"
        },
        "id": "fZP6NgmBuSpr",
        "outputId": "832ac2e3-ddb3-4861-bb42-e95e64c9cadf"
      },
      "execution_count": 54,
      "outputs": [
        {
          "output_type": "execute_result",
          "data": {
            "text/plain": [
              "1145"
            ]
          },
          "metadata": {},
          "execution_count": 54
        }
      ]
    },
    {
      "cell_type": "code",
      "source": [
        "idx = 5\n",
        "root_dir = './data/dataset/images'\n",
        "img_path, label = res[idx].strip().split(\"\\t\")\n",
        "print(f\"{img_path} is {class_list[eval(label)]}\")\n",
        "Image.open(os.path.join(root_dir, img_path)).convert('RGB')"
      ],
      "metadata": {
        "colab": {
          "base_uri": "https://localhost:8080/",
          "height": 214
        },
        "id": "mkUn1_y-uZxM",
        "outputId": "94c225a9-8b10-4885-9085-bff19f294e82"
      },
      "execution_count": 59,
      "outputs": [
        {
          "output_type": "stream",
          "name": "stdout",
          "text": [
            "5284.jpg is soccer_ball\n"
          ]
        },
        {
          "output_type": "execute_result",
          "data": {
            "text/plain": [
              "<PIL.Image.Image image mode=RGB size=300x179>"
            ],
            "image/png": "[encoded data removed]"
          },
          "metadata": {},
          "execution_count": 59
        }
      ]
    }
  ]
}