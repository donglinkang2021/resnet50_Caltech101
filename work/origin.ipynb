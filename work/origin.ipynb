{
 "cells": [
  {
   "cell_type": "markdown",
   "metadata": {},
   "source": [
    "请点击[此处](https://ai.baidu.com/docs#/AIStudio_Project_Notebook/a38e5576)查看本环境基本用法.  <br>\n",
    "Please click [here ](https://ai.baidu.com/docs#/AIStudio_Project_Notebook/a38e5576) for more detailed instructions. "
   ]
  },
  {
   "cell_type": "markdown",
   "metadata": {},
   "source": [
    "# 试题说明\n",
    "\n",
    "## 任务说明\n",
    "基于Caltech数据集的图像分类，Caltech101包含101个目标类+背景类，每种类别大约40到800个图像，训练集总计7999图像。本次试题需要图片为输入，通过课程学习的分类方法（支持向量机、深度神经网络、卷积神经网络等）从中识别该图像属于哪一个类别。\n",
    "\n",
    "![](https://ai-studio-static-online.cdn.bcebos.com/cae444996fde439e86d4ddc9ec54f3906407d0394d6546999dbbad72fcef9be2)\n",
    "\n",
    "## 数据说明\n",
    "images下存储所有的训练+测试图像，trian.txt中存储用于训练图像路径和对应标注，图片路径+\\t+标签，test.txt中存储测试图像。\n",
    "\n",
    "![](https://ai-studio-static-online.cdn.bcebos.com/8944957ea2934f7aaa9f359cb480432b6fe285283ec34d14a06e858fb3113707)\n",
    "\n",
    "\n",
    "\n",
    "## 提交答案\n",
    "考试提交，需要提交模型代码项目版本和结果文件。结果文件为TXT文件格式，命名为result.txt，文件内的字段需要按照指定格式写入。\n",
    "结果文件要求：\n",
    "1,每一行为： 图像名\\t标签  101_0073.jpg\\t13\n",
    "2.输出结果应检查是否为1145行数据，否则成绩无效。\n",
    "3.输出结果文件命名为result.txt，一行一个数据，样例如下：\n",
    "\n",
    "\n",
    "![](https://ai-studio-static-online.cdn.bcebos.com/ff3b7c61536242c9a0f6d40f1e2e67cc94da265384044f88a26e916735c16f91)\n"
   ]
  }
 ],
 "metadata": {
  "kernelspec": {
   "display_name": "Python 3",
   "language": "python",
   "name": "py35-paddle1.2.0"
  },
  "language_info": {
   "codemirror_mode": {
    "name": "ipython",
    "version": 3
   },
   "file_extension": ".py",
   "mimetype": "text/x-python",
   "name": "python",
   "nbconvert_exporter": "python",
   "pygments_lexer": "ipython3",
   "version": "3.7.4"
  }
 },
 "nbformat": 4,
 "nbformat_minor": 4
}
