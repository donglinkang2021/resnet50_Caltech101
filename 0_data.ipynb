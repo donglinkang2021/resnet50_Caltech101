{
 "cells": [
  {
   "cell_type": "code",
   "execution_count": 8,
   "metadata": {},
   "outputs": [
    {
     "data": {
      "text/plain": [
       "102"
      ]
     },
     "execution_count": 8,
     "metadata": {},
     "output_type": "execute_result"
    }
   ],
   "source": [
    "def load_class_list(text_path=\"./data/dataset/class.txt\"):\n",
    "    with open(text_path, \"r\") as f:\n",
    "        class_text = f.read().strip(\"\\n\")\n",
    "    class_list = []\n",
    "    for line in class_text.split(\"\\n\"):\n",
    "        class_name = line.split(\"\\t\")[0]\n",
    "        class_list.append(class_name)\n",
    "    return class_list\n",
    "\n",
    "class_list = load_class_list()\n",
    "len(class_list)"
   ]
  },
  {
   "cell_type": "code",
   "execution_count": 10,
   "metadata": {},
   "outputs": [],
   "source": [
    "import os\n",
    "import random\n",
    "\n",
    "def get_data_list(\n",
    "        train_data_path=\"./data/dataset/train.txt\",\n",
    "        train_list_path=\"./data/process/train_list.txt\",\n",
    "        val_list_path=\"./data/process/val_list.txt\"\n",
    "    ):\n",
    "    \"\"\"\n",
    "    生成训练集和验证集的数据列表\n",
    "    \n",
    "    \"\"\"\n",
    "\n",
    "    with open(train_list_path, 'w', encoding='utf-8') as f_train:\n",
    "        f_train.seek(0)\n",
    "        f_train.truncate() \n",
    "\n",
    "    with open(val_list_path, 'w', encoding='utf-8') as f_val:\n",
    "        f_val.seek(0)\n",
    "        f_val.truncate()\n",
    "        \n",
    "\n",
    "    train_list = []\n",
    "    val_list = []\n",
    "\n",
    "    with open(train_data_path, \"r\") as f:\n",
    "        train_data = f.read().strip(\"\\n\")\n",
    "\n",
    "    for i, line in enumerate(train_data.split(\"\\n\")):\n",
    "        img_path = line.split(\"\\t\")[0]\n",
    "        class_index = line.split(\"\\t\")[1].strip()\n",
    "        if i % 10 == 0:\n",
    "            val_list.append(img_path + \"\\t\" + class_index + \"\\n\")\n",
    "        else:\n",
    "            train_list.append(img_path + \"\\t\" + class_index + \"\\n\")\n",
    "\n",
    "    with open(train_list_path, 'a+', encoding='utf-8') as f_train:\n",
    "        f_train.writelines(train_list)\n",
    "\n",
    "    with open(val_list_path, 'a+', encoding='utf-8') as f_val:\n",
    "        f_val.writelines(val_list)\n",
    "\n",
    "get_data_list()"
   ]
  },
  {
   "cell_type": "code",
   "execution_count": null,
   "metadata": {},
   "outputs": [],
   "source": []
  }
 ],
 "metadata": {
  "kernelspec": {
   "display_name": "base",
   "language": "python",
   "name": "python3"
  },
  "language_info": {
   "codemirror_mode": {
    "name": "ipython",
    "version": 3
   },
   "file_extension": ".py",
   "mimetype": "text/x-python",
   "name": "python",
   "nbconvert_exporter": "python",
   "pygments_lexer": "ipython3",
   "version": "3.9.18"
  }
 },
 "nbformat": 4,
 "nbformat_minor": 2
}
